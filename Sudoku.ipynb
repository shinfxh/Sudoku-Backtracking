{
 "cells": [
  {
   "cell_type": "code",
   "execution_count": 1,
   "metadata": {},
   "outputs": [
    {
     "name": "stderr",
     "output_type": "stream",
     "text": [
      "Using TensorFlow backend.\n"
     ]
    }
   ],
   "source": [
    "from math import *;\n",
    "import numpy as np;\n",
    "from scipy import *;\n",
    "import pandas as pd;\n",
    "from keras.models import Sequential\n",
    "import tensorflow as tf;"
   ]
  },
  {
   "cell_type": "code",
   "execution_count": 2,
   "metadata": {},
   "outputs": [],
   "source": [
    "def initiateGrid():\n",
    "    row_0=[0,0,0,0,0,9,0,6,7];\n",
    "    row_1=[0,0,7,0,3,2,0,9,1];\n",
    "    row_2=[6,0,2,7,1,0,0,0,0];\n",
    "    row_3=[0,6,3,0,0,0,7,0,2];\n",
    "    row_4=[7,0,0,0,0,0,0,0,8];\n",
    "    row_5=[4,0,1,0,0,0,6,5,0];\n",
    "    row_6=[0,0,0,0,2,1,8,0,5];\n",
    "    row_7=[2,4,0,9,8,0,3,0,0];\n",
    "    row_8=[1,7,0,5,0,0,0,0,0];\n",
    "    return [row_0, row_1, row_2, row_3, row_4, row_5, row_6, row_7, row_8];"
   ]
  },
  {
   "cell_type": "code",
   "execution_count": 3,
   "metadata": {},
   "outputs": [],
   "source": [
    "def splitGroup(grid, indices):\n",
    "    values=[lis[:] for lis in indices];'copies by value'\n",
    "    for i in range(len(indices)):\n",
    "        for j in range(len(indices[i])):\n",
    "            values[i][j]=grid[indices[i][j]];\n",
    "    return values;"
   ]
  },
  {
   "cell_type": "code",
   "execution_count": 4,
   "metadata": {},
   "outputs": [],
   "source": [
    "def findAllPeersIndices(rows_indices, columns_indices, boxes_indices):\n",
    "    peers_indices=[];\n",
    "    for x in range (81):\n",
    "        row=int(x/9);\n",
    "        column=x%9;\n",
    "        box_index=int(column/3)+int(row/3)*3;\n",
    "        \n",
    "        boxes_peers_indices=boxes_indices[box_index];\n",
    "        columns_peers_indices=columns_indices[column];\n",
    "        rows_peers_indices=rows_indices[row];\n",
    "        \n",
    "        unique_peers_indices=list(set(boxes_peers_indices+columns_peers_indices+rows_peers_indices)-set([x]));\n",
    "        peers_indices.append(unique_peers_indices);\n",
    "        \n",
    "    return peers_indices;\n",
    "\n",
    "def findAllPeersValues(grid, peers_indices):\n",
    "    peers_values=[];\n",
    "    for i in range(81):\n",
    "        peers=[];\n",
    "        value=grid[i];\n",
    "        for j in peers_indices[i]:\n",
    "            peers.append(grid[j]);\n",
    "        peers=list(set(peers));\n",
    "        peers_values.append(peers);\n",
    "    return peers_values\n",
    "\n",
    "def findAllPeers(rows_indices, columns_indices, boxes_indices, rows_values, columns_values, boxes_values):\n",
    "    peers_indices=[];\n",
    "    peers_values=[];\n",
    "    for x in range (81):\n",
    "        row=int(x/9);\n",
    "        column=x%9;\n",
    "        if rows_values[row][column]!=0:\n",
    "            peers_values.append([i for i in range(1,10)]);\n",
    "            peers_indices.append([]);\n",
    "            continue;\n",
    "            \n",
    "        box_index=int(column/3)+int(row/3)*3;\n",
    "        boxes_peers_values=boxes_values[box_index];\n",
    "        boxes_peers_indices=boxes_indices[box_index];\n",
    "        columns_peers_values=columns_values[column];\n",
    "        columns_peers_indices=columns_indices[column];\n",
    "        rows_peers_values=rows_values[row];\n",
    "        rows_peers_indices=rows_indices[row];\n",
    "        \n",
    "        unique_peers_values=list(set(boxes_peers_values+columns_peers_values+rows_peers_values));\n",
    "        unique_peers_indices=list(set(boxes_peers_indices+columns_peers_indices+rows_peers_indices));\n",
    "        peers_values.append(unique_peers_values);\n",
    "        peers_indices.append(unique_peers_indices);\n",
    "        \n",
    "    return [peers_indices, peers_values];"
   ]
  },
  {
   "cell_type": "code",
   "execution_count": 5,
   "metadata": {},
   "outputs": [],
   "source": [
    "def findCandidates(peers):\n",
    "    all_values=[x for x in range(1,10)];\n",
    "    return list(set(all_values)-set(peers));"
   ]
  },
  {
   "cell_type": "code",
   "execution_count": 6,
   "metadata": {},
   "outputs": [],
   "source": [
    "def findAllCandidates(grid, peers_list):\n",
    "    candidates_list=[];\n",
    "    for i in range(len(grid)):\n",
    "        if grid[i]!=0:\n",
    "            candidates_list.append([]);\n",
    "        else:\n",
    "            peers=peers_list[i];\n",
    "            candidates_list.append(findCandidates(peers));\n",
    "    return candidates_list;"
   ]
  },
  {
   "cell_type": "code",
   "execution_count": 7,
   "metadata": {},
   "outputs": [],
   "source": [
    "def checkNakedSingles(candidates_list):\n",
    "    naked_singles_indices=[];\n",
    "    naked_singles_values=[];\n",
    "    for i in range(len(candidates_list)):\n",
    "        if len(candidates_list[i])==1:\n",
    "            naked_singles_indices.append(i);\n",
    "            naked_singles_values.append(candidates_list[i][0]);\n",
    "    return [naked_singles_indices, naked_singles_values]"
   ]
  },
  {
   "cell_type": "code",
   "execution_count": 8,
   "metadata": {},
   "outputs": [],
   "source": [
    "def checkUniqueCandidatesPartial(indices_list, candidates_list):\n",
    "    'this checks for a single row, column, or box'\n",
    "    unique_candidates_indices=[];\n",
    "    unique_candidates_values=[];\n",
    "    counter=[[] for x in range(10)];\n",
    "    for index in indices_list:\n",
    "        candidates=candidates_list[index];\n",
    "        for candidate in candidates:\n",
    "            counter[candidate].append(index);\n",
    "    for number in range(1,10):\n",
    "        if len(counter[number])==1:\n",
    "            unique_candidates_indices.append(counter[number][0]);\n",
    "            unique_candidates_values.append(number);\n",
    "    return [unique_candidates_indices, unique_candidates_values]"
   ]
  },
  {
   "cell_type": "code",
   "execution_count": 9,
   "metadata": {},
   "outputs": [],
   "source": [
    "def checkUniqueCandidates(indices_list, candidates_list):\n",
    "    unique_candidates_indices=[];\n",
    "    unique_candidates_values=[];\n",
    "    for indices in indices_list:\n",
    "        [a, b]=checkUniqueCandidatesPartial(indices, candidates_list);\n",
    "        unique_candidates_indices+=a;\n",
    "        unique_candidates_values+=b;\n",
    "    return [unique_candidates_indices, unique_candidates_values] "
   ]
  },
  {
   "cell_type": "code",
   "execution_count": 10,
   "metadata": {},
   "outputs": [],
   "source": [
    "def elementaryChecks(all_candidates, rows_indices, columns_indices, boxes_indices):\n",
    "    indices=[];\n",
    "    values=[];\n",
    "    [checked_indices, checked_values]=checkNakedSingles(all_candidates);\n",
    "    indices+=checked_indices;\n",
    "    values+=checked_values;\n",
    "    [checked_indices, checked_values]=checkUniqueCandidates(rows_indices, all_candidates);\n",
    "    indices+=checked_indices;\n",
    "    values+=checked_values;\n",
    "    [checked_indices, checked_values]=checkUniqueCandidates(columns_indices, all_candidates);\n",
    "    indices+=checked_indices;\n",
    "    values+=checked_values;\n",
    "    [checked_indices, checked_values]=checkUniqueCandidates(boxes_indices, all_candidates);\n",
    "    indices+=checked_indices;\n",
    "    values+=checked_values;\n",
    "    return [indices, values]"
   ]
  },
  {
   "cell_type": "code",
   "execution_count": 11,
   "metadata": {},
   "outputs": [],
   "source": [
    "def linearSolve(grid):\n",
    "    while grid.count(0)>0:\n",
    "        rows_values=splitGroup(grid, rows_indices);\n",
    "        columns_values=splitGroup(grid, columns_indices);\n",
    "        boxes_values=splitGroup(grid, boxes_indices);\n",
    "        all_peers_values=findAllPeersValues(grid, all_peers_indices);\n",
    "        all_candidates=findAllCandidates(grid, all_peers_values);\n",
    "        [indices, values]=elementaryChecks(all_candidates, rows_indices, columns_indices, boxes_indices);\n",
    "        if len(indices)==0:\n",
    "            return grid;\n",
    "        for i in range(len(indices)):\n",
    "            grid[indices[i]]=values[i];\n",
    "    return grid;"
   ]
  },
  {
   "cell_type": "code",
   "execution_count": 12,
   "metadata": {},
   "outputs": [],
   "source": [
    "def checkContradiction(grid, all_peers_values, all_candidates):\n",
    "    for i in range(81):\n",
    "        value=grid[i];\n",
    "        if value==0:\n",
    "            if all_candidates[i]==[]:\n",
    "                return 1;\n",
    "        else:\n",
    "            peers=all_peers_values[i];\n",
    "            for peer in peers:\n",
    "                if peer==value:\n",
    "                    return 1;\n",
    "    return 0;\n",
    "\n",
    "def backPropagation(grid):\n",
    "    rows_values=splitGroup(grid, rows_indices);\n",
    "    columns_values=splitGroup(grid, columns_indices);\n",
    "    boxes_values=splitGroup(grid, boxes_indices);\n",
    "    all_peers_values=findAllPeersValues(grid, all_peers_indices);\n",
    "    all_candidates=findAllCandidates(grid, all_peers_values);\n",
    "    \n",
    "    if grid.count(0)==0:\n",
    "        return grid;\n",
    "    if checkContradiction(grid, all_peers_values, all_candidates):\n",
    "        return [];\n",
    "    \n",
    "    [indices, values]=elementaryChecks(all_candidates, rows_indices, columns_indices, boxes_indices);\n",
    "    if len(indices)==0:\n",
    "        len_list=[len(candidates) for candidates in all_candidates];\n",
    "        len_list=np.array(len_list);\n",
    "        len_list=len_list[len_list!=0];\n",
    "        min_length=np.amin(len_list);\n",
    "        min_index=np.where(len_list = min_length);\n",
    "        for i in range(min_length):\n",
    "            new_grid=grid[:];\n",
    "            new_grid[min_index]=all_candidates[min_index][i];\n",
    "            result=backPropagation(new_grid);\n",
    "            if result!=[]:\n",
    "                return result;\n",
    "    else:\n",
    "        for i in range(len(indices)):\n",
    "            grid[indices[i]]=values[i];\n",
    "        return backPropagation(grid);"
   ]
  },
  {
   "cell_type": "code",
   "execution_count": 13,
   "metadata": {},
   "outputs": [],
   "source": [
    "data=pd.read_csv(\"sudoku.csv\");\n",
    "data=np.array(data);"
   ]
  },
  {
   "cell_type": "code",
   "execution_count": 14,
   "metadata": {},
   "outputs": [],
   "source": [
    "'Initiation'\n",
    "index=0;\n",
    "rows_indices=[[j*9+i for i in range(9)] for j in range(9)];\n",
    "columns_indices=[[j+i*9 for i in range(9)] for j in range(9)];\n",
    "boxes_indices=[[i+j*9+i_offset*3+(j_offset*9)*3 for j in range(3) for i in range(3)]\n",
    "               for j_offset in range(3) for i_offset in range(3)];\n",
    "\n",
    "grid=[int(num) for num in data[index][0]];\n",
    "sol_grid=[int(num) for num in data[index][1]];\n",
    "\n",
    "columns_values=splitGroup(grid, columns_indices);\n",
    "boxes_values=splitGroup(grid, boxes_indices);\n",
    "all_peers_indices=findAllPeersIndices(rows_indices, columns_indices, boxes_indices);\n",
    "all_peers_values=findAllPeersValues(grid, all_peers_indices);\n",
    "all_candidates=findAllCandidates(grid, all_peers_values);"
   ]
  },
  {
   "cell_type": "code",
   "execution_count": 15,
   "metadata": {},
   "outputs": [],
   "source": [
    "errors=0;\n",
    "givens=[];\n",
    "for index in range(1000):\n",
    "    grid=[int(num) for num in data[index][0]];\n",
    "    sol_grid=[int(num) for num in data[index][1]];\n",
    "    givens.append(81-grid.count(0));\n",
    "\n",
    "    columns_values=splitGroup(grid, columns_indices);\n",
    "    boxes_values=splitGroup(grid, boxes_indices);\n",
    "    all_peers_indices=findAllPeersIndices(rows_indices, columns_indices, boxes_indices);\n",
    "    all_peers_values=findAllPeersValues(grid, all_peers_indices);\n",
    "    all_candidates=findAllCandidates(grid, all_peers_values);\n",
    "    \n",
    "    ans_grid=linearSolve(grid);\n",
    "    if ans_grid!=sol_grid:\n",
    "        errors+=1;"
   ]
  },
  {
   "cell_type": "code",
   "execution_count": 16,
   "metadata": {},
   "outputs": [],
   "source": [
    "def generatePuzzleRemoval(solvable_grid):\n",
    "    filled_indices=[i for i in range(len(solvable_grid)) if solvable_grid[i]!=0];\n",
    "    random_index=random.choice(filled_indices);\n",
    "    new_grid=solvable_grid[:];\n",
    "    new_grid[random_index]=0;\n",
    "    \n",
    "    rows_values=splitGroup(new_grid, rows_indices);\n",
    "    columns_values=splitGroup(new_grid, columns_indices);\n",
    "    boxes_values=splitGroup(new_grid, boxes_indices);\n",
    "    all_peers_values=findAllPeersValues(new_grid, all_peers_indices);\n",
    "    all_candidates=findAllCandidates(new_grid, all_peers_values);\n",
    "    \n",
    "    [indices, values]=elementaryChecks(all_candidates, rows_indices, columns_indices, boxes_indices);\n",
    "    if len(indices)==0:\n",
    "        return solvable_grid;\n",
    "    else:\n",
    "        return generatePuzzleRemoval(new_grid);"
   ]
  },
  {
   "cell_type": "code",
   "execution_count": 17,
   "metadata": {},
   "outputs": [],
   "source": [
    "def hiddenPairElimination(group_indices, all_candidates):\n",
    "    #first check if certain numbers occur in only two positions \n",
    "    #second check if a cell only contains two numbers, then note those two numbers down and check with remaining cells\n",
    "    group_candidates=[all_candidates[i] for i in group_indices];\n",
    "    pos_list=[[] for i in range(10)];\n",
    "    \n",
    "    for i in range(len(group_indices)):\n",
    "        candidates=group_candidates[i];\n",
    "        index=group_indices[i];\n",
    "        for candidate in candidates:\n",
    "            pos_list[candidate].append(index);\n",
    "            \n",
    "    \n",
    "    pair_values=[i for i in range(1,10) if len(pos_list[i])==2];\n",
    "    pair_indices=[pos_list[i] for i in range(1,10) if len(pos_list[i])==2];\n",
    "    pair_values_dynamic=[];\n",
    "    pair_indices_dynamic=[];\n",
    "    \n",
    "    for i in range(len(pair_values)):\n",
    "        matched=0;\n",
    "        value=pair_values[i];\n",
    "        indices=pair_indices[i];\n",
    "        for j in range(len(pair_values_dynamic)):\n",
    "            if pair_indices_dynamic[j]==indices:\n",
    "                keep=[value, pair_values_dynamic[j]];\n",
    "                for index in indices:\n",
    "                    all_candidates[index]=keep;\n",
    "                del pair_indices_dynamic[j];\n",
    "                del pair_values_dynamic[j];\n",
    "                matched=1;\n",
    "                break;\n",
    "        if (matched==0):\n",
    "            pair_values_dynamic.append(value);\n",
    "            pair_indices_dynamic.append(indices);\n",
    "    \n",
    "            \n",
    "    pair_values=[candidates for candidates in group_candidates if len(candidates)==2];\n",
    "    pair_indices=[group_indices[i] for i in range(len(group_indices)) if len(group_candidates[i])==2];"
   ]
  },
  {
   "cell_type": "code",
   "execution_count": 18,
   "metadata": {},
   "outputs": [],
   "source": [
    "def nakedDoubleElimination(group_indices, all_candidates):\n",
    "    #first check if certain numbers occur in only two positions \n",
    "    #second check if a cell only contains two numbers, then note those two numbers down and check with remaining cells\n",
    "    group_candidates=[all_candidates[i] for i in group_indices];\n",
    "            \n",
    "    pair_values=[candidates for candidates in group_candidates if len(candidates)==2];\n",
    "    pair_indices=[group_indices[i] for i in range(len(group_indices)) if len(group_candidates[i])==2];\n",
    "    pair_values_dynamic=[];\n",
    "    pair_indices_dynamic=[];\n",
    "    for i in range(len(pair_indices)):\n",
    "        matched=0;\n",
    "        values=pair_values[i];\n",
    "        index=pair_indices[i];\n",
    "        for j in range(len(pair_indices_dynamic)):\n",
    "            if pair_values_dynamic[j]==values:\n",
    "                keep_indices=[index, pair_indices_dynamic[j]];\n",
    "                remove_indices=list(set(group_indices)-set(keep_indices));\n",
    "                for index in remove_indices:\n",
    "                    old_candidates=all_candidates[index][:];\n",
    "                    all_candidates[index]=list(set(old_candidates)-set(values));\n",
    "                del pair_indices_dynamic[j];\n",
    "                del pair_values_dynamic[j];\n",
    "                matched=1;\n",
    "                break;\n",
    "        if (matched==0):\n",
    "            pair_values_dynamic.append(values);\n",
    "            pair_indices_dynamic.append(index);"
   ]
  },
  {
   "cell_type": "code",
   "execution_count": 19,
   "metadata": {},
   "outputs": [],
   "source": [
    "def pairElimination_Group(group_indices, all_candidates):\n",
    "    hiddenPairElimination(group_indices, all_candidates);\n",
    "    nakedDoubleElimination(group_indices, all_candidates);\n",
    "    \n",
    "def allPairElimination(rows_indices, columns_indices, boxes_indices, all_candidates):\n",
    "    for i in range(len(rows_indices)):\n",
    "        pairElimination_Group(rows_indices[i], all_candidates);\n",
    "        pairElimination_Group(columns_indices[i], all_candidates);\n",
    "        pairElimination_Group(boxes_indices[i], all_candidates);"
   ]
  },
  {
   "cell_type": "code",
   "execution_count": 20,
   "metadata": {},
   "outputs": [],
   "source": [
    "def generatePuzzle(puzzle_grid, best_solution_grid):\n",
    "    #print(count);\n",
    "    rows_values=splitGroup(best_solution_grid, rows_indices);\n",
    "    columns_values=splitGroup(best_solution_grid, columns_indices);\n",
    "    boxes_values=splitGroup(best_solution_grid, boxes_indices);\n",
    "    all_peers_values=findAllPeersValues(best_solution_grid, all_peers_indices);\n",
    "    all_candidates=findAllCandidates(best_solution_grid, all_peers_values);\n",
    "    if (checkContradiction(best_solution_grid, all_peers_values, all_candidates)):\n",
    "        #contradiction\n",
    "        return [[], []];\n",
    "    if best_solution_grid.count(0)==0:\n",
    "        #solved\n",
    "        return [puzzle_grid, best_solution_grid];\n",
    "    count_list=[[] for i in range(10)];\n",
    "    for i in range(81):\n",
    "        candidates=all_candidates[i];\n",
    "        candidates_count=len(candidates);\n",
    "        count_list[candidates_count].append(i);\n",
    "    for i in range(9,0,-1):\n",
    "        if count_list[i]!=[]:\n",
    "            index_choice=random.choice(count_list[i]);\n",
    "            break;\n",
    "    new_puzzle_grid=puzzle_grid[:];\n",
    "    new_best_solution_grid=best_solution_grid[:];\n",
    "    candidate_choices=all_candidates[index_choice];\n",
    "    end_puzzle_grid=[];\n",
    "    while len(end_puzzle_grid)==0:\n",
    "        if (len(candidate_choices))==0:\n",
    "            return [[],[]];\n",
    "        candidate_choice=random.choice(candidate_choices);\n",
    "        candidate_choices.remove(candidate_choice);\n",
    "        new_puzzle_grid[index_choice]=candidate_choice;\n",
    "        new_best_solution_grid=best_solution_grid[:];\n",
    "        new_best_solution_grid[index_choice]=candidate_choice;\n",
    "        new_best_solution_grid=linearSolve(new_best_solution_grid);\n",
    "        [end_puzzle_grid, end_solution_grid]=generatePuzzle(new_puzzle_grid, new_best_solution_grid);\n",
    "    return [end_puzzle_grid, end_solution_grid];"
   ]
  },
  {
   "cell_type": "code",
   "execution_count": 21,
   "metadata": {},
   "outputs": [],
   "source": [
    "def intermediateSolve(grid):\n",
    "    while grid.count(0)>0:\n",
    "        rows_values=splitGroup(grid, rows_indices);\n",
    "        columns_values=splitGroup(grid, columns_indices);\n",
    "        boxes_values=splitGroup(grid, boxes_indices);\n",
    "        all_peers_values=findAllPeersValues(grid, all_peers_indices);\n",
    "        all_candidates=findAllCandidates(grid, all_peers_values);\n",
    "        allPairElimination(rows_indices, columns_indices, boxes_indices, all_candidates);\n",
    "        [indices, values]=elementaryChecks(all_candidates, rows_indices, columns_indices, boxes_indices);\n",
    "        if len(indices)==0:\n",
    "            return grid;\n",
    "        for i in range(len(indices)):\n",
    "            grid[indices[i]]=values[i];\n",
    "    return grid;"
   ]
  },
  {
   "cell_type": "code",
   "execution_count": 294,
   "metadata": {},
   "outputs": [],
   "source": [
    "def generatePuzzleIntermediate(puzzle_grid, best_solution_grid):\n",
    "    global branch_count;\n",
    "    #print(count);\n",
    "    rows_values=splitGroup(best_solution_grid, rows_indices);\n",
    "    columns_values=splitGroup(best_solution_grid, columns_indices);\n",
    "    boxes_values=splitGroup(best_solution_grid, boxes_indices);\n",
    "    all_peers_values=findAllPeersValues(best_solution_grid, all_peers_indices);\n",
    "    all_candidates=findAllCandidates(best_solution_grid, all_peers_values);\n",
    "    if (checkContradiction(best_solution_grid, all_peers_values, all_candidates)):\n",
    "        #contradiction\n",
    "        return [[], []];\n",
    "    if best_solution_grid.count(0)==0:\n",
    "        #solved\n",
    "        return [puzzle_grid, best_solution_grid];\n",
    "    count_list=[[] for i in range(10)];\n",
    "    for i in range(81):\n",
    "        candidates=all_candidates[i];\n",
    "        candidates_count=len(candidates);\n",
    "        count_list[candidates_count].append(i);\n",
    "    for i in range(9,0,-1):\n",
    "        if count_list[i]!=[]:\n",
    "            index_choice=random.choice(count_list[i]);\n",
    "            break;\n",
    "    new_puzzle_grid=puzzle_grid[:];\n",
    "    new_best_solution_grid=best_solution_grid[:];\n",
    "    candidate_choices=all_candidates[index_choice];\n",
    "    end_puzzle_grid=[];\n",
    "    while len(end_puzzle_grid)==0:\n",
    "        branch_count+=1;\n",
    "        if (len(candidate_choices))==0:\n",
    "            return [[],[]];\n",
    "        candidate_choice=random.choice(candidate_choices);\n",
    "        candidate_choices.remove(candidate_choice);\n",
    "        new_puzzle_grid[index_choice]=candidate_choice;\n",
    "        new_best_solution_grid=best_solution_grid[:];\n",
    "        new_best_solution_grid[index_choice]=candidate_choice;\n",
    "        new_best_solution_grid=intermediateSolve(new_best_solution_grid);\n",
    "        [end_puzzle_grid, end_solution_grid]=generatePuzzleIntermediate(new_puzzle_grid, new_best_solution_grid);\n",
    "    return [end_puzzle_grid, end_solution_grid];"
   ]
  },
  {
   "cell_type": "code",
   "execution_count": 295,
   "metadata": {},
   "outputs": [],
   "source": [
    "empty_grid=[0 for i in range(81)];\n",
    "global branch_count;\n",
    "branch_count=0;\n",
    "[end_puzzle_grid, end_solution_grid]=generatePuzzleIntermediate(empty_grid, empty_grid);"
   ]
  },
  {
   "cell_type": "code",
   "execution_count": 296,
   "metadata": {},
   "outputs": [
    {
     "name": "stdout",
     "output_type": "stream",
     "text": [
      "27\n"
     ]
    }
   ],
   "source": [
    "print(branch_count)"
   ]
  },
  {
   "cell_type": "code",
   "execution_count": 297,
   "metadata": {},
   "outputs": [
    {
     "name": "stdout",
     "output_type": "stream",
     "text": [
      "24\n"
     ]
    },
    {
     "data": {
      "text/plain": [
       "[[7, 0, 1, 3, 0, 0, 0, 0, 0],\n",
       " [0, 0, 0, 0, 5, 6, 0, 0, 0],\n",
       " [0, 0, 0, 0, 0, 0, 7, 2, 3],\n",
       " [0, 0, 0, 5, 2, 0, 0, 0, 0],\n",
       " [6, 0, 4, 0, 0, 0, 0, 1, 0],\n",
       " [0, 0, 0, 0, 3, 0, 0, 7, 0],\n",
       " [0, 1, 0, 0, 0, 0, 3, 0, 4],\n",
       " [0, 4, 8, 0, 0, 0, 9, 0, 0],\n",
       " [0, 0, 0, 0, 7, 9, 0, 0, 2]]"
      ]
     },
     "execution_count": 297,
     "metadata": {},
     "output_type": "execute_result"
    }
   ],
   "source": [
    "print(81-end_puzzle_grid.count(0));\n",
    "splitGroup(end_puzzle_grid, rows_indices)"
   ]
  },
  {
   "cell_type": "code",
   "execution_count": 139,
   "metadata": {},
   "outputs": [],
   "source": [
    "solution_grid_linear=linearSolve(end_puzzle_grid);\n",
    "solution_grid=intermediateSolve(end_puzzle_grid);"
   ]
  },
  {
   "cell_type": "code",
   "execution_count": 140,
   "metadata": {},
   "outputs": [
    {
     "data": {
      "text/plain": [
       "True"
      ]
     },
     "execution_count": 140,
     "metadata": {},
     "output_type": "execute_result"
    }
   ],
   "source": [
    "solution_grid_linear==end_solution_grid"
   ]
  },
  {
   "cell_type": "code",
   "execution_count": 298,
   "metadata": {},
   "outputs": [],
   "source": [
    "from PIL import Image\n",
    "image_list=[];\n",
    "for i in range(10):\n",
    "    filename=\"Numbers/\"+str(i)+\".png\";\n",
    "    image=Image.open(filename);\n",
    "    image_list.append(image);"
   ]
  },
  {
   "cell_type": "code",
   "execution_count": 299,
   "metadata": {},
   "outputs": [],
   "source": [
    "def concatenateHorizontal(images):\n",
    "    image_width=images[0].width;\n",
    "    image_height=images[0].height;\n",
    "    dst = Image.new('RGB', (image_width*len(images), image_height));\n",
    "    for i in range(len(images)):\n",
    "        dst.paste(images[i], (image_width*i, 0));\n",
    "    return dst\n",
    "\n",
    "def concatenateVertical(images):\n",
    "    image_width=images[0].width;\n",
    "    image_height=images[0].height;\n",
    "    dst = Image.new('RGB', (image_width, image_height*len(images)));\n",
    "    for i in range(len(images)):\n",
    "        dst.paste(images[i], (0, image_height*i));\n",
    "    return dst"
   ]
  },
  {
   "cell_type": "code",
   "execution_count": 300,
   "metadata": {},
   "outputs": [],
   "source": [
    "rows_values=splitGroup(end_puzzle_grid, rows_indices);\n",
    "#rows_values=[[0 for i in range(9)] for j in range(9)];\n",
    "all_images=[];\n",
    "for row in rows_values:\n",
    "    row_image_list=[image_list[index] for index in row];\n",
    "    all_images.append(concatenateHorizontal(row_image_list));\n",
    "all_images.reverse;\n",
    "output_image=concatenateVertical(all_images);"
   ]
  },
  {
   "cell_type": "code",
   "execution_count": 301,
   "metadata": {},
   "outputs": [],
   "source": [
    "horizontal_line=Image.open(\"Numbers/HorizontalLine.png\");\n",
    "vertical_line=Image.open(\"Numbers/VerticalLine.png\");"
   ]
  },
  {
   "cell_type": "code",
   "execution_count": 302,
   "metadata": {},
   "outputs": [],
   "source": [
    "dimension=output_image.size[0]/3;\n",
    "thickness=8;\n",
    "horizontal_line=horizontal_line.resize((output_image.width, thickness));\n",
    "vertical_line=vertical_line.resize((thickness, output_image.height));\n",
    "output_image.paste(vertical_line, (int(dimension-thickness/2),0));\n",
    "output_image.paste(vertical_line, (int(dimension*2-thickness/2),0));\n",
    "output_image.paste(horizontal_line, (0,int(dimension-thickness/2)));\n",
    "output_image.paste(horizontal_line, (0,int(dimension*2-thickness/2)));"
   ]
  },
  {
   "cell_type": "code",
   "execution_count": 304,
   "metadata": {},
   "outputs": [],
   "source": [
    "output_image.save(\"Numbers/Puzzle1.png\")"
   ]
  },
  {
   "cell_type": "code",
   "execution_count": null,
   "metadata": {},
   "outputs": [],
   "source": []
  }
 ],
 "metadata": {
  "kernelspec": {
   "display_name": "Python 3",
   "language": "python",
   "name": "python3"
  },
  "language_info": {
   "codemirror_mode": {
    "name": "ipython",
    "version": 3
   },
   "file_extension": ".py",
   "mimetype": "text/x-python",
   "name": "python",
   "nbconvert_exporter": "python",
   "pygments_lexer": "ipython3",
   "version": "3.7.7"
  }
 },
 "nbformat": 4,
 "nbformat_minor": 2
}
